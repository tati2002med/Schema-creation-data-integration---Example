{
 "cells": [
  {
   "cell_type": "markdown",
   "id": "fc27c9df",
   "metadata": {},
   "source": [
    "# Data Integration & Schema Creation"
   ]
  },
  {
   "cell_type": "markdown",
   "id": "fe8cabc1",
   "metadata": {},
   "source": [
    "## Authour:\n",
    "    - TATI Mohammed\n",
    "+ 26-03-23"
   ]
  },
  {
   "cell_type": "markdown",
   "id": "22818226",
   "metadata": {},
   "source": [
    "## Libraries needed"
   ]
  },
  {
   "cell_type": "code",
   "execution_count": 9,
   "id": "c5f52774",
   "metadata": {},
   "outputs": [],
   "source": [
    "# Data manipulation\n",
    "import pandas as pd\n",
    "\n",
    "# SQL management package\n",
    "from mysql_pack.database import Database"
   ]
  },
  {
   "cell_type": "markdown",
   "id": "20097620",
   "metadata": {},
   "source": [
    "## Database & Schema Creation"
   ]
  },
  {
   "cell_type": "markdown",
   "id": "9a2f542f",
   "metadata": {},
   "source": [
    "### Database"
   ]
  },
  {
   "cell_type": "code",
   "execution_count": 10,
   "id": "e73bec22",
   "metadata": {},
   "outputs": [
    {
     "name": "stdout",
     "output_type": "stream",
     "text": [
      "Database task03 created successfully!!\n",
      "Connected to task03 successfully!!\n"
     ]
    }
   ],
   "source": [
    "db = Database(username=\"tweetyx\",\n",
    "              password=\"24042002\",\n",
    "              database=\"task03\")"
   ]
  },
  {
   "cell_type": "markdown",
   "id": "cce4869e",
   "metadata": {},
   "source": [
    "### Tables"
   ]
  },
  {
   "cell_type": "markdown",
   "id": "c7248aa6",
   "metadata": {},
   "source": [
    "+ actor"
   ]
  },
  {
   "cell_type": "code",
   "execution_count": 11,
   "id": "3d889dd0",
   "metadata": {},
   "outputs": [
    {
     "name": "stdout",
     "output_type": "stream",
     "text": [
      "Enter the name of the table: actor\n",
      "Enter the columns (separeted with comma) with their data types: actor_id int PRIMARY KEY,first_name varchar(45),last_name varchar(45), last_update datetime\n"
     ]
    },
    {
     "data": {
      "text/plain": [
       "'Table actor created!!'"
      ]
     },
     "execution_count": 11,
     "metadata": {},
     "output_type": "execute_result"
    }
   ],
   "source": [
    "# actor_id int PRIMARY KEY,first_name varchar(45),last_name varchar(45), last_update datetime\n",
    "db.create_table()"
   ]
  },
  {
   "cell_type": "markdown",
   "id": "40721244",
   "metadata": {},
   "source": [
    "+ Country"
   ]
  },
  {
   "cell_type": "code",
   "execution_count": 13,
   "id": "58727998",
   "metadata": {},
   "outputs": [
    {
     "name": "stdout",
     "output_type": "stream",
     "text": [
      "Enter the name of the table: country\n",
      "Enter the columns (separeted with comma) with their data types: country_id int PRIMARY KEY,country varchar(50),last_update datetime\n"
     ]
    },
    {
     "data": {
      "text/plain": [
       "'Table country created!!'"
      ]
     },
     "execution_count": 13,
     "metadata": {},
     "output_type": "execute_result"
    }
   ],
   "source": [
    "# country_id int PRIMARY KEY,country varchar(50),last_update datetime\n",
    "db.create_table()"
   ]
  },
  {
   "cell_type": "markdown",
   "id": "3ff12d0e",
   "metadata": {},
   "source": [
    "+ Category"
   ]
  },
  {
   "cell_type": "code",
   "execution_count": 14,
   "id": "180bbda9",
   "metadata": {},
   "outputs": [
    {
     "name": "stdout",
     "output_type": "stream",
     "text": [
      "Enter the name of the table: category\n",
      "Enter the columns (separeted with comma) with their data types: category_id int PRIMARY KEY,name varchar(25),last_update datetime\n"
     ]
    },
    {
     "data": {
      "text/plain": [
       "'Table category created!!'"
      ]
     },
     "execution_count": 14,
     "metadata": {},
     "output_type": "execute_result"
    }
   ],
   "source": [
    "# category_id int PRIMARY KEY,name varchar(25),last_update datetime\n",
    "db.create_table()"
   ]
  },
  {
   "cell_type": "markdown",
   "id": "de77eacb",
   "metadata": {},
   "source": [
    "+ City"
   ]
  },
  {
   "cell_type": "code",
   "execution_count": 15,
   "id": "324e8399",
   "metadata": {},
   "outputs": [
    {
     "name": "stdout",
     "output_type": "stream",
     "text": [
      "Enter the name of the table: city\n",
      "Enter the columns (separeted with comma) with their data types: city_id int PRIMARY KEY,city varchar(50),country_id int,last_update datetime, FOREIGN KEY (country_id) REFERENCES country (country_id)\n"
     ]
    },
    {
     "data": {
      "text/plain": [
       "'Table city created!!'"
      ]
     },
     "execution_count": 15,
     "metadata": {},
     "output_type": "execute_result"
    }
   ],
   "source": [
    "# city_id int PRIMARY KEY,city varchar(50),country_id int,last_update datetime,\n",
    "# FOREIGN KEY (country_id) REFERENCES country (country_id)\n",
    "db.create_table()"
   ]
  },
  {
   "cell_type": "markdown",
   "id": "ed9f73b2",
   "metadata": {},
   "source": [
    "+ Address"
   ]
  },
  {
   "cell_type": "code",
   "execution_count": 16,
   "id": "8c901699",
   "metadata": {},
   "outputs": [
    {
     "name": "stdout",
     "output_type": "stream",
     "text": [
      "Enter the name of the table: address\n",
      "Enter the columns (separeted with comma) with their data types: id_address int PRIMARY KEY, address varchar(50), address2 varchar(50), district varchar(20), city_id int, postal_code varchar(10), phone varchar(20), last_update datetime, FOREIGN KEY (city_id) REFERENCES city (city_id)\n"
     ]
    },
    {
     "data": {
      "text/plain": [
       "'Table address created!!'"
      ]
     },
     "execution_count": 16,
     "metadata": {},
     "output_type": "execute_result"
    }
   ],
   "source": [
    "# id_address int PRIMARY KEY, address varchar(50), address2 varchar(50), district varchar(20), city_id int, postal_code varchar(10), phone varchar(20), last_update datetime,\n",
    "# FOREIGN KEY (city_id) REFERENCES city (city_id)\n",
    "db.create_table()"
   ]
  },
  {
   "cell_type": "markdown",
   "id": "1dd1339e",
   "metadata": {},
   "source": [
    "+ Language"
   ]
  },
  {
   "cell_type": "code",
   "execution_count": 17,
   "id": "8316f8ae",
   "metadata": {},
   "outputs": [
    {
     "name": "stdout",
     "output_type": "stream",
     "text": [
      "Enter the name of the table: language\n",
      "Enter the columns (separeted with comma) with their data types: language_id int PRIMARY KEY,name varchar(20),last_update datetime\n"
     ]
    },
    {
     "data": {
      "text/plain": [
       "'Table language created!!'"
      ]
     },
     "execution_count": 17,
     "metadata": {},
     "output_type": "execute_result"
    }
   ],
   "source": [
    "# language_id int PRIMARY KEY,name varchar(20),last_update datetime\n",
    "db.create_table()"
   ]
  },
  {
   "cell_type": "markdown",
   "id": "95d23157",
   "metadata": {},
   "source": [
    "+ Film"
   ]
  },
  {
   "cell_type": "code",
   "execution_count": 20,
   "id": "0ed5bba2",
   "metadata": {},
   "outputs": [
    {
     "name": "stdout",
     "output_type": "stream",
     "text": [
      "Enter the name of the table: film\n",
      "Enter the columns (separeted with comma) with their data types: film_id int PRIMARY KEY,title VARCHAR(255),description text,release_year int,language_id int,rental_duration int,rental_rate float,length int,replacement_cost float,rating float,last_update datetime,special_features text,full_text LONGTEXT\n"
     ]
    },
    {
     "data": {
      "text/plain": [
       "'Table film created!!'"
      ]
     },
     "execution_count": 20,
     "metadata": {},
     "output_type": "execute_result"
    }
   ],
   "source": [
    "# film_id int PRIMARY KEY,title VARCHAR(255),description text,release_year int,language_id int,rental_duration int,rental_rate float,length int,replacement_cost float,rating float,last_update datetime,special_features text,full_text LONGTEXT\n",
    "db.create_table()"
   ]
  },
  {
   "cell_type": "markdown",
   "id": "492d3fa2",
   "metadata": {},
   "source": [
    "+ Film Actor"
   ]
  },
  {
   "cell_type": "code",
   "execution_count": 21,
   "id": "b7b1f72f",
   "metadata": {},
   "outputs": [
    {
     "name": "stdout",
     "output_type": "stream",
     "text": [
      "Enter the name of the table: film_actor\n",
      "Enter the columns (separeted with comma) with their data types: actor_id int,film_id int,last_update datetime, PRIMARY KEY(actor_id,film_id), FOREIGN KEY (actor_id) REFERENCES actor (actor_id), FOREIGN KEY (film_id) REFERENCES film (film_id)\n"
     ]
    },
    {
     "data": {
      "text/plain": [
       "'Table film_actor created!!'"
      ]
     },
     "execution_count": 21,
     "metadata": {},
     "output_type": "execute_result"
    }
   ],
   "source": [
    "# actor_id int,film_id int,last_update datetime, PRIMARY KEY(actor_id,film_id),\n",
    "# FOREIGN KEY (actor_id) REFERENCES actor (actor_id), FOREIGN KEY (film_id) REFERENCES film (film_id)\n",
    "db.create_table()"
   ]
  },
  {
   "cell_type": "markdown",
   "id": "fd1d87db",
   "metadata": {},
   "source": [
    "+ Film Category"
   ]
  },
  {
   "cell_type": "code",
   "execution_count": 24,
   "id": "4da61b50",
   "metadata": {},
   "outputs": [
    {
     "name": "stdout",
     "output_type": "stream",
     "text": [
      "Enter the name of the table: film_category\n",
      "Enter the columns (separeted with comma) with their data types: film_id int, category_id int,last_update datetime, PRIMARY KEY(film_id,category_id), FOREIGN KEY (film_id) REFERENCES film (film_id), FOREIGN KEY (category_id) REFERENCES category (category_id)\n"
     ]
    },
    {
     "data": {
      "text/plain": [
       "'Table film_category created!!'"
      ]
     },
     "execution_count": 24,
     "metadata": {},
     "output_type": "execute_result"
    }
   ],
   "source": [
    "# film_id int, category_id int,last_update datetime, PRIMARY KEY(film_id,category_id),\n",
    "# FOREIGN KEY (film_id) REFERENCES film (film_id), FOREIGN KEY (category_id) REFERENCES category (category_id)\n",
    "db.create_table()"
   ]
  },
  {
   "cell_type": "markdown",
   "id": "72510026",
   "metadata": {},
   "source": [
    "+ Staff"
   ]
  },
  {
   "cell_type": "code",
   "execution_count": 26,
   "id": "2fd179ba",
   "metadata": {},
   "outputs": [
    {
     "name": "stdout",
     "output_type": "stream",
     "text": [
      "Enter the name of the table: staff\n",
      "Enter the columns (separeted with comma) with their data types: staff_id int PRIMARY KEY,first_name varchar(45),last_name varchar(45),address_id int,email varchar(50),store_id int,active boolean,username varchar(19),password varchar(45),last_update datetime,picture LONGBLOB,FOREIGN KEY (address_id) REFERENCES address (id_address)\n"
     ]
    },
    {
     "data": {
      "text/plain": [
       "'Table staff created!!'"
      ]
     },
     "execution_count": 26,
     "metadata": {},
     "output_type": "execute_result"
    }
   ],
   "source": [
    "# staff_id int PRIMARY KEY,first_name varchar(45),last_name varchar(45),address_id int,email varchar(50),store_id int,active boolean,username varchar(19),password varchar(45),last_update datetime,picture LONGBLOB\n",
    "# ,FOREIGN KEY (address_id) REFERENCES address (id_address)\n",
    "db.create_table()"
   ]
  },
  {
   "cell_type": "markdown",
   "id": "729c5cd3",
   "metadata": {},
   "source": [
    "+ Store"
   ]
  },
  {
   "cell_type": "code",
   "execution_count": 27,
   "id": "09919c67",
   "metadata": {},
   "outputs": [
    {
     "name": "stdout",
     "output_type": "stream",
     "text": [
      "Enter the name of the table: store\n",
      "Enter the columns (separeted with comma) with their data types: store_id int PRIMARY KEY,manager_staff_id int,address_id int,last_update datetime,FOREIGN KEY (manager_staff_id) REFERENCES staff(staff_id), FOREIGN KEY (address_id) REFERENCES address (id_address)\n"
     ]
    },
    {
     "data": {
      "text/plain": [
       "'Table store created!!'"
      ]
     },
     "execution_count": 27,
     "metadata": {},
     "output_type": "execute_result"
    }
   ],
   "source": [
    "# store_id int PRIMARY KEY,manager_staff_id int,address_id int,last_update datetime,\n",
    "# FOREIGN KEY (manager_staff_id) REFERENCES staff(staff_id), FOREIGN KEY (address_id) REFERENCES address (id_address)\n",
    "db.create_table()"
   ]
  },
  {
   "cell_type": "markdown",
   "id": "3f9e2776",
   "metadata": {},
   "source": [
    "+ Customer"
   ]
  },
  {
   "cell_type": "code",
   "execution_count": 28,
   "id": "5b68871c",
   "metadata": {},
   "outputs": [
    {
     "name": "stdout",
     "output_type": "stream",
     "text": [
      "Enter the name of the table: customer\n",
      "Enter the columns (separeted with comma) with their data types: customer_id int PRIMARY KEY,store_id int,first_name varchar(45),last_name varchar(45),email varchar(50),address_id int,activebool boolean,create_date date,last_update datetime,active int,FOREIGN KEY (store_id) REFERENCES store(store_id), FOREIGN KEY (address_id) REFERENCES address (id_address)\n"
     ]
    },
    {
     "data": {
      "text/plain": [
       "'Table customer created!!'"
      ]
     },
     "execution_count": 28,
     "metadata": {},
     "output_type": "execute_result"
    }
   ],
   "source": [
    "# customer_id int PRIMARY KEY,store_id int,first_name varchar(45),last_name varchar(45),email varchar(50),address_id int,activebool boolean,create_date date,last_update datetime,active int\n",
    "# ,FOREIGN KEY (store_id) REFERENCES store(store_id), FOREIGN KEY (address_id) REFERENCES address (id_address)\n",
    "db.create_table()"
   ]
  },
  {
   "cell_type": "markdown",
   "id": "08666451",
   "metadata": {},
   "source": [
    "+ Inventory"
   ]
  },
  {
   "cell_type": "code",
   "execution_count": 29,
   "id": "e4d0f54f",
   "metadata": {},
   "outputs": [
    {
     "name": "stdout",
     "output_type": "stream",
     "text": [
      "Enter the name of the table: inventory\n",
      "Enter the columns (separeted with comma) with their data types: inventory_id int PRIMARY KEY,film_id int,store_id int,last_update datetime,FOREIGN KEY (film_id) REFERENCES film(film_id), FOREIGN KEY (store_id) REFERENCES store (store_id)\n"
     ]
    },
    {
     "data": {
      "text/plain": [
       "'Table inventory created!!'"
      ]
     },
     "execution_count": 29,
     "metadata": {},
     "output_type": "execute_result"
    }
   ],
   "source": [
    "# inventory_id int PRIMARY KEY,film_id int,store_id int,last_update datetime,\n",
    "# FOREIGN KEY (film_id) REFERENCES film(film_id), FOREIGN KEY (store_id) REFERENCES store (store_id)\n",
    "db.create_table()"
   ]
  },
  {
   "cell_type": "markdown",
   "id": "2cf9227b",
   "metadata": {},
   "source": [
    "+ Rental"
   ]
  },
  {
   "cell_type": "code",
   "execution_count": 30,
   "id": "bc9739e2",
   "metadata": {},
   "outputs": [
    {
     "name": "stdout",
     "output_type": "stream",
     "text": [
      "Enter the name of the table: rental\n",
      "Enter the columns (separeted with comma) with their data types: rental_id int PRIMARY KEY,rental_date datetime,inventory_id int,customer_id int,return_date datetime,staff_id int,last_update datetime,FOREIGN KEY (inventory_id) REFERENCES inventory(inventory_id), FOREIGN KEY (customer_id) REFERENCES customer (customer_id),FOREIGN KEY (staff_id) REFERENCES staff(staff_id)\n"
     ]
    },
    {
     "data": {
      "text/plain": [
       "'Table rental created!!'"
      ]
     },
     "execution_count": 30,
     "metadata": {},
     "output_type": "execute_result"
    }
   ],
   "source": [
    "# rental_id int PRIMARY KEY,rental_date datetime,inventory_id int,customer_id int,return_date datetime,staff_id int,last_update datetime\n",
    "# FOREIGN KEY (inventory_id) REFERENCES inventory(inventory_id), FOREIGN KEY (customer_id) REFERENCES customer (customer_id),\n",
    "# FOREIGN KEY (staff_id) REFERENCES staff(staff_id)\n",
    "db.create_table()"
   ]
  },
  {
   "cell_type": "markdown",
   "id": "1663ed10",
   "metadata": {},
   "source": [
    "+ Payment"
   ]
  },
  {
   "cell_type": "code",
   "execution_count": 31,
   "id": "0c29f26f",
   "metadata": {},
   "outputs": [
    {
     "name": "stdout",
     "output_type": "stream",
     "text": [
      "Enter the name of the table: payment\n",
      "Enter the columns (separeted with comma) with their data types: payment_id int PRIMARY KEY, customer_id int,staff_id int,rental_id int,amount float,payment_date datetime,FOREIGN KEY (rental_id) REFERENCES rental(rental_id), FOREIGN KEY (customer_id) REFERENCES customer (customer_id),FOREIGN KEY (staff_id) REFERENCES staff(staff_id)\n"
     ]
    },
    {
     "data": {
      "text/plain": [
       "'Table payment created!!'"
      ]
     },
     "execution_count": 31,
     "metadata": {},
     "output_type": "execute_result"
    }
   ],
   "source": [
    "# payment_id int PRIMARY KEY, customer_id int,staff_id int,rental_id int,amount float,payment_date datetime,\n",
    "# FOREIGN KEY (rental_id) REFERENCES rental(rental_id), FOREIGN KEY (customer_id) REFERENCES customer (customer_id),\n",
    "# FOREIGN KEY (staff_id) REFERENCES staff(staff_id)\n",
    "db.create_table()"
   ]
  },
  {
   "cell_type": "markdown",
   "id": "feaa5007",
   "metadata": {},
   "source": [
    "## Data inserting"
   ]
  },
  {
   "cell_type": "markdown",
   "id": "1ed2239c",
   "metadata": {},
   "source": [
    "### Actor"
   ]
  },
  {
   "cell_type": "code",
   "execution_count": 32,
   "id": "b6f6b86d",
   "metadata": {},
   "outputs": [],
   "source": [
    "into_actor = \"INSERT INTO actor VALUES(%s, %s, %s, %s)\"\n",
    "db.insert_data(csv='../data/actor-1677886980800.csv', query=into_actor)"
   ]
  },
  {
   "cell_type": "markdown",
   "id": "283ead62",
   "metadata": {},
   "source": [
    "### Country"
   ]
  },
  {
   "cell_type": "code",
   "execution_count": 33,
   "id": "0ed635e3",
   "metadata": {},
   "outputs": [],
   "source": [
    "into_country = \"INSERT INTO country VALUES(%s, %s, %s)\"\n",
    "db.insert_data(csv='../data/country-1677887083257.csv', query=into_country)"
   ]
  },
  {
   "cell_type": "markdown",
   "id": "c0235bb5",
   "metadata": {},
   "source": [
    "### Category"
   ]
  },
  {
   "cell_type": "code",
   "execution_count": 34,
   "id": "eb135c87",
   "metadata": {},
   "outputs": [],
   "source": [
    "into_category = \"INSERT INTO category VALUES(%s, %s, %s)\"\n",
    "db.insert_data(csv='../data/category-1677887044868.csv', query=into_category)"
   ]
  },
  {
   "cell_type": "markdown",
   "id": "02a14a8f",
   "metadata": {},
   "source": [
    "### City"
   ]
  },
  {
   "cell_type": "code",
   "execution_count": 35,
   "id": "bcdef805",
   "metadata": {},
   "outputs": [],
   "source": [
    "into_city = \"INSERT INTO city VALUES(%s, %s, %s, %s)\"\n",
    "db.insert_data(csv='../data/city-1677887064709.csv', query=into_city)"
   ]
  },
  {
   "cell_type": "markdown",
   "id": "ec7a13dc",
   "metadata": {},
   "source": [
    "### Address"
   ]
  },
  {
   "cell_type": "code",
   "execution_count": 36,
   "id": "c1dace3a",
   "metadata": {},
   "outputs": [],
   "source": [
    "into_address = \"INSERT INTO address VALUES(%s, %s, %s, %s, %s, %s, %s, %s)\"\n",
    "db.insert_data(csv='../data/address-1677887015727.csv', query=into_address)"
   ]
  },
  {
   "cell_type": "markdown",
   "id": "3b448f78",
   "metadata": {},
   "source": [
    "### Language"
   ]
  },
  {
   "cell_type": "code",
   "execution_count": 37,
   "id": "b5ab53ef",
   "metadata": {},
   "outputs": [],
   "source": [
    "into_language = \"INSERT INTO language VALUES(%s, %s, %s)\"\n",
    "db.insert_data(csv='../data/language-1677887305001.csv', query=into_language)"
   ]
  },
  {
   "cell_type": "markdown",
   "id": "05a6f55b",
   "metadata": {},
   "source": [
    "### Film"
   ]
  },
  {
   "cell_type": "code",
   "execution_count": 42,
   "id": "1ed339a2",
   "metadata": {},
   "outputs": [],
   "source": [
    "into_film = \"INSERT INTO film VALUES(%s, %s, %s, %s, %s, %s, %s, %s, %s, %s, %s, %s, %s)\"\n",
    "db.insert_data(csv='../data/film-1677887139521.csv', query=into_film)"
   ]
  },
  {
   "cell_type": "markdown",
   "id": "47e0936c",
   "metadata": {},
   "source": [
    "### Film_actor"
   ]
  },
  {
   "cell_type": "code",
   "execution_count": 43,
   "id": "81540c9a",
   "metadata": {},
   "outputs": [],
   "source": [
    "into_Film_actor = \"INSERT INTO film_actor VALUES(%s, %s, %s)\"\n",
    "db.insert_data(csv='../data/film_actor-1677887154866.csv', query=into_Film_actor)"
   ]
  },
  {
   "cell_type": "markdown",
   "id": "d69b8e35",
   "metadata": {},
   "source": [
    "### Film_category"
   ]
  },
  {
   "cell_type": "code",
   "execution_count": 44,
   "id": "c59eb8b1",
   "metadata": {},
   "outputs": [],
   "source": [
    "into_Film_category = \"INSERT INTO film_category VALUES(%s, %s, %s)\"\n",
    "db.insert_data(csv='../data/film_category-1677887171057.csv', query=into_Film_category)"
   ]
  },
  {
   "cell_type": "markdown",
   "id": "af33c7b4",
   "metadata": {},
   "source": [
    "### Staff"
   ]
  },
  {
   "cell_type": "code",
   "execution_count": 40,
   "id": "99c8497d",
   "metadata": {},
   "outputs": [],
   "source": [
    "into_staff = \"INSERT INTO staff VALUES(%s, %s, %s, %s, %s, %s, %s, %s, %s, %s, %s)\"\n",
    "db.insert_data(csv='../data/staff-1677887360024.csv', query=into_staff)"
   ]
  },
  {
   "cell_type": "markdown",
   "id": "c9e51add",
   "metadata": {},
   "source": [
    "### Store"
   ]
  },
  {
   "cell_type": "code",
   "execution_count": 41,
   "id": "87139760",
   "metadata": {},
   "outputs": [],
   "source": [
    "into_store = \"INSERT INTO store VALUES(%s, %s, %s, %s)\"\n",
    "db.insert_data(csv='../data/store-1677887380221.csv', query=into_store)"
   ]
  },
  {
   "cell_type": "markdown",
   "id": "c1b1e129",
   "metadata": {},
   "source": [
    "### Customer"
   ]
  },
  {
   "cell_type": "code",
   "execution_count": 45,
   "id": "c45231a7",
   "metadata": {},
   "outputs": [],
   "source": [
    "into_customer = \"INSERT INTO customer VALUES(%s, %s, %s, %s, %s, %s, %s, %s, %s, %s)\"\n",
    "db.insert_data(csv='../data/customer-1677887114572.csv', query=into_customer)"
   ]
  },
  {
   "cell_type": "markdown",
   "id": "421802c1",
   "metadata": {},
   "source": [
    "### Inventory"
   ]
  },
  {
   "cell_type": "code",
   "execution_count": 46,
   "id": "b9ceba27",
   "metadata": {},
   "outputs": [],
   "source": [
    "into_inventory = \"INSERT INTO inventory VALUES(%s, %s, %s, %s)\"\n",
    "db.insert_data(csv='../data/inventory-1677887199648.csv', query=into_inventory)"
   ]
  },
  {
   "cell_type": "markdown",
   "id": "58127338",
   "metadata": {},
   "source": [
    "### Rental"
   ]
  },
  {
   "cell_type": "code",
   "execution_count": 48,
   "id": "00a40175",
   "metadata": {},
   "outputs": [],
   "source": [
    "into_rental = \"INSERT INTO rental VALUES(%s, %s, %s, %s, %s, %s, %s)\"\n",
    "db.insert_data(csv='../data/rental-1677887346717.csv', query=into_rental)"
   ]
  },
  {
   "cell_type": "markdown",
   "id": "b9de95fc",
   "metadata": {},
   "source": [
    "### Payment"
   ]
  },
  {
   "cell_type": "code",
   "execution_count": 49,
   "id": "1384e985",
   "metadata": {},
   "outputs": [],
   "source": [
    "into_payment = \"INSERT INTO payment VALUES(%s, %s, %s, %s, %s, %s)\"\n",
    "db.insert_data(csv='../data/payment-1677887325957.csv', query=into_payment)"
   ]
  },
  {
   "cell_type": "markdown",
   "id": "f88666cb",
   "metadata": {},
   "source": [
    "# Ending the session"
   ]
  },
  {
   "cell_type": "code",
   "execution_count": 50,
   "id": "be216aba",
   "metadata": {},
   "outputs": [
    {
     "name": "stdout",
     "output_type": "stream",
     "text": [
      "Connection to the database closed successfully!!\n"
     ]
    }
   ],
   "source": [
    "db.close()"
   ]
  }
 ],
 "metadata": {
  "kernelspec": {
   "display_name": "Python 3 (ipykernel)",
   "language": "python",
   "name": "python3"
  },
  "language_info": {
   "codemirror_mode": {
    "name": "ipython",
    "version": 3
   },
   "file_extension": ".py",
   "mimetype": "text/x-python",
   "name": "python",
   "nbconvert_exporter": "python",
   "pygments_lexer": "ipython3",
   "version": "3.9.13"
  }
 },
 "nbformat": 4,
 "nbformat_minor": 5
}
